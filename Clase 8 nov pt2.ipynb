{
 "cells": [
  {
   "cell_type": "markdown",
   "id": "868a52f7-2533-41dd-b837-905fade88927",
   "metadata": {},
   "source": [
    "## Data Wrangling"
   ]
  },
  {
   "cell_type": "code",
   "execution_count": 1,
   "id": "7629ca86-c3d9-4fa9-a0bf-66b59c90cc50",
   "metadata": {},
   "outputs": [
    {
     "name": "stdout",
     "output_type": "stream",
     "text": [
      "Collecting xlrd\n",
      "  Downloading xlrd-2.0.1-py2.py3-none-any.whl (96 kB)\n",
      "\u001b[K     |████████████████████████████████| 96 kB 2.9 MB/s eta 0:00:011\n",
      "\u001b[?25hInstalling collected packages: xlrd\n",
      "Successfully installed xlrd-2.0.1\n",
      "Note: you may need to restart the kernel to use updated packages.\n"
     ]
    }
   ],
   "source": [
    "pip install xlrd"
   ]
  },
  {
   "cell_type": "code",
   "execution_count": 2,
   "id": "9ab19b79-65f6-4e25-9b1d-8ae1787d7ca9",
   "metadata": {},
   "outputs": [
    {
     "name": "stdout",
     "output_type": "stream",
     "text": [
      "Collecting openpyxl\n",
      "  Downloading openpyxl-3.0.9-py2.py3-none-any.whl (242 kB)\n",
      "\u001b[K     |████████████████████████████████| 242 kB 4.7 MB/s eta 0:00:01\n",
      "\u001b[?25hCollecting et-xmlfile\n",
      "  Downloading et_xmlfile-1.1.0-py3-none-any.whl (4.7 kB)\n",
      "Installing collected packages: et-xmlfile, openpyxl\n",
      "Successfully installed et-xmlfile-1.1.0 openpyxl-3.0.9\n",
      "Note: you may need to restart the kernel to use updated packages.\n"
     ]
    }
   ],
   "source": [
    "pip install openpyxl"
   ]
  },
  {
   "cell_type": "code",
   "execution_count": 7,
   "id": "397b18ad-52dd-4377-b525-1d01554588ad",
   "metadata": {},
   "outputs": [
    {
     "name": "stdout",
     "output_type": "stream",
     "text": [
      "adult.csv                  census.csv     movies.csv\n",
      "airline_data.csv           coches.csv     nhanes_2015_2016.csv\n",
      "antropometria00.csv        cwurData.csv   pokemon.csv\n",
      "antropometria-dataset.csv  data.csv       sample_pivot.csv\n",
      "Book3.csv                  headbrain.csv  tips.csv\n",
      "Canada.xlsx                mic2.xlsx      weight-height.csv\n",
      "Cartwheeldata.csv          mic.xlsx\n"
     ]
    }
   ],
   "source": [
    "%ls datasets"
   ]
  },
  {
   "cell_type": "code",
   "execution_count": 16,
   "id": "933206c6-544e-4f78-ad86-d34d2eecf991",
   "metadata": {},
   "outputs": [
    {
     "data": {
      "text/plain": [
       "Index([       'Type',    'Coverage',      'OdName',        'AREA',\n",
       "          'AreaName',         'REG',     'RegName',         'DEV',\n",
       "           'DevName',          1980,          1981,          1982,\n",
       "                1983,          1984,          1985,          1986,\n",
       "                1987,          1988,          1989,          1990,\n",
       "                1991,          1992,          1993,          1994,\n",
       "                1995,          1996,          1997,          1998,\n",
       "                1999,          2000,          2001,          2002,\n",
       "                2003,          2004,          2005,          2006,\n",
       "                2007,          2008,          2009,          2010,\n",
       "                2011,          2012,          2013, 'Unnamed: 43',\n",
       "       'Unnamed: 44', 'Unnamed: 45', 'Unnamed: 46', 'Unnamed: 47',\n",
       "       'Unnamed: 48', 'Unnamed: 49', 'Unnamed: 50'],\n",
       "      dtype='object')"
      ]
     },
     "execution_count": 16,
     "metadata": {},
     "output_type": "execute_result"
    }
   ],
   "source": [
    "import pandas as pd\n",
    "df = pd.read_excel('datasets/Canada.xlsx',\n",
    "                   engine = 'openpyxl',\n",
    "                  sheet_name = 'Canada by Citizenship',\n",
    "                  skiprows = range(20))\n",
    "df.columns"
   ]
  },
  {
   "cell_type": "code",
   "execution_count": 17,
   "id": "c72ced00-5b17-4770-ab95-3772d561b43c",
   "metadata": {},
   "outputs": [],
   "source": [
    "df.drop(['Type','Coverage','REG','DEV', 'Unnamed: 43','Unnamed: 44',\n",
    "         'Unnamed: 45', 'Unnamed: 46', 'Unnamed: 47', 'Unnamed: 48',\n",
    "         'Unnamed: 49', 'Unnamed: 50'],\n",
    "        axis = 1,\n",
    "        inplace = True\n",
    "       )"
   ]
  },
  {
   "cell_type": "code",
   "execution_count": 18,
   "id": "98667032-61a2-4bd4-96e0-953c48024dfb",
   "metadata": {},
   "outputs": [
    {
     "data": {
      "text/plain": [
       "Index([  'OdName',     'AREA', 'AreaName',  'RegName',  'DevName',       1980,\n",
       "             1981,       1982,       1983,       1984,       1985,       1986,\n",
       "             1987,       1988,       1989,       1990,       1991,       1992,\n",
       "             1993,       1994,       1995,       1996,       1997,       1998,\n",
       "             1999,       2000,       2001,       2002,       2003,       2004,\n",
       "             2005,       2006,       2007,       2008,       2009,       2010,\n",
       "             2011,       2012,       2013],\n",
       "      dtype='object')"
      ]
     },
     "execution_count": 18,
     "metadata": {},
     "output_type": "execute_result"
    }
   ],
   "source": [
    "df.columns"
   ]
  },
  {
   "cell_type": "code",
   "execution_count": 20,
   "id": "374bc90a-fbb5-44d0-bf2e-89ba7071d1dc",
   "metadata": {},
   "outputs": [
    {
     "data": {
      "text/plain": [
       "Index([  'Country',      'AREA', 'Continent',    'Region',   'DevName',\n",
       "              1980,        1981,        1982,        1983,        1984,\n",
       "              1985,        1986,        1987,        1988,        1989,\n",
       "              1990,        1991,        1992,        1993,        1994,\n",
       "              1995,        1996,        1997,        1998,        1999,\n",
       "              2000,        2001,        2002,        2003,        2004,\n",
       "              2005,        2006,        2007,        2008,        2009,\n",
       "              2010,        2011,        2012,        2013],\n",
       "      dtype='object')"
      ]
     },
     "execution_count": 20,
     "metadata": {},
     "output_type": "execute_result"
    }
   ],
   "source": [
    "df.rename(columns = {'OdName':'Country',\n",
    "                     'AreaName':'Continent',\n",
    "                     'RegName':'Region'},\n",
    "          inplace = True)\n",
    "df.columns"
   ]
  },
  {
   "cell_type": "code",
   "execution_count": 32,
   "id": "e1fef272-bd47-492c-a859-c98a2f829361",
   "metadata": {},
   "outputs": [
    {
     "data": {
      "text/html": [
       "<div>\n",
       "<style scoped>\n",
       "    .dataframe tbody tr th:only-of-type {\n",
       "        vertical-align: middle;\n",
       "    }\n",
       "\n",
       "    .dataframe tbody tr th {\n",
       "        vertical-align: top;\n",
       "    }\n",
       "\n",
       "    .dataframe thead th {\n",
       "        text-align: right;\n",
       "    }\n",
       "</style>\n",
       "<table border=\"1\" class=\"dataframe\">\n",
       "  <thead>\n",
       "    <tr style=\"text-align: right;\">\n",
       "      <th></th>\n",
       "      <th>Country</th>\n",
       "      <th>AREA</th>\n",
       "      <th>Continent</th>\n",
       "      <th>Region</th>\n",
       "      <th>DevName</th>\n",
       "      <th>1980</th>\n",
       "      <th>1981</th>\n",
       "      <th>1982</th>\n",
       "      <th>1983</th>\n",
       "      <th>1984</th>\n",
       "      <th>...</th>\n",
       "      <th>2005</th>\n",
       "      <th>2006</th>\n",
       "      <th>2007</th>\n",
       "      <th>2008</th>\n",
       "      <th>2009</th>\n",
       "      <th>2010</th>\n",
       "      <th>2011</th>\n",
       "      <th>2012</th>\n",
       "      <th>2013</th>\n",
       "      <th>Total</th>\n",
       "    </tr>\n",
       "  </thead>\n",
       "  <tbody>\n",
       "    <tr>\n",
       "      <th>0</th>\n",
       "      <td>Afghanistan</td>\n",
       "      <td>935.0</td>\n",
       "      <td>Asia</td>\n",
       "      <td>Southern Asia</td>\n",
       "      <td>Developing regions</td>\n",
       "      <td>16.0</td>\n",
       "      <td>39.0</td>\n",
       "      <td>39.0</td>\n",
       "      <td>47.0</td>\n",
       "      <td>71.0</td>\n",
       "      <td>...</td>\n",
       "      <td>3436.0</td>\n",
       "      <td>3009.0</td>\n",
       "      <td>2652.0</td>\n",
       "      <td>2111.0</td>\n",
       "      <td>1746.0</td>\n",
       "      <td>1758.0</td>\n",
       "      <td>2203.0</td>\n",
       "      <td>2635.0</td>\n",
       "      <td>2004.0</td>\n",
       "      <td>58639.0</td>\n",
       "    </tr>\n",
       "    <tr>\n",
       "      <th>1</th>\n",
       "      <td>Albania</td>\n",
       "      <td>908.0</td>\n",
       "      <td>Europe</td>\n",
       "      <td>Southern Europe</td>\n",
       "      <td>Developed regions</td>\n",
       "      <td>1.0</td>\n",
       "      <td>0.0</td>\n",
       "      <td>0.0</td>\n",
       "      <td>0.0</td>\n",
       "      <td>0.0</td>\n",
       "      <td>...</td>\n",
       "      <td>1223.0</td>\n",
       "      <td>856.0</td>\n",
       "      <td>702.0</td>\n",
       "      <td>560.0</td>\n",
       "      <td>716.0</td>\n",
       "      <td>561.0</td>\n",
       "      <td>539.0</td>\n",
       "      <td>620.0</td>\n",
       "      <td>603.0</td>\n",
       "      <td>15699.0</td>\n",
       "    </tr>\n",
       "  </tbody>\n",
       "</table>\n",
       "<p>2 rows × 40 columns</p>\n",
       "</div>"
      ],
      "text/plain": [
       "       Country   AREA Continent           Region             DevName  1980  \\\n",
       "0  Afghanistan  935.0      Asia    Southern Asia  Developing regions  16.0   \n",
       "1      Albania  908.0    Europe  Southern Europe   Developed regions   1.0   \n",
       "\n",
       "   1981  1982  1983  1984  ...    2005    2006    2007    2008    2009  \\\n",
       "0  39.0  39.0  47.0  71.0  ...  3436.0  3009.0  2652.0  2111.0  1746.0   \n",
       "1   0.0   0.0   0.0   0.0  ...  1223.0   856.0   702.0   560.0   716.0   \n",
       "\n",
       "     2010    2011    2012    2013    Total  \n",
       "0  1758.0  2203.0  2635.0  2004.0  58639.0  \n",
       "1   561.0   539.0   620.0   603.0  15699.0  \n",
       "\n",
       "[2 rows x 40 columns]"
      ]
     },
     "execution_count": 32,
     "metadata": {},
     "output_type": "execute_result"
    }
   ],
   "source": [
    "df['Total'] = df.iloc[:,5:39].sum(axis=1)\n",
    "df.head(2)"
   ]
  },
  {
   "cell_type": "code",
   "execution_count": 34,
   "id": "80afcb6e-4302-4002-a8d8-4291bb4203be",
   "metadata": {},
   "outputs": [
    {
     "data": {
      "text/plain": [
       "Index(['Country', 'AREA', 'Continent', 'Region', 'DevName', '1980', '1981',\n",
       "       '1982', '1983', '1984', '1985', '1986', '1987', '1988', '1989', '1990',\n",
       "       '1991', '1992', '1993', '1994', '1995', '1996', '1997', '1998', '1999',\n",
       "       '2000', '2001', '2002', '2003', '2004', '2005', '2006', '2007', '2008',\n",
       "       '2009', '2010', '2011', '2012', '2013', 'Total'],\n",
       "      dtype='object')"
      ]
     },
     "execution_count": 34,
     "metadata": {},
     "output_type": "execute_result"
    }
   ],
   "source": [
    "df.columns = list(map(str,df.columns))\n",
    "df.columns"
   ]
  },
  {
   "cell_type": "code",
   "execution_count": 35,
   "id": "340a7451-b4d3-48b9-814c-3008ebea1baa",
   "metadata": {},
   "outputs": [
    {
     "data": {
      "text/html": [
       "<div>\n",
       "<style scoped>\n",
       "    .dataframe tbody tr th:only-of-type {\n",
       "        vertical-align: middle;\n",
       "    }\n",
       "\n",
       "    .dataframe tbody tr th {\n",
       "        vertical-align: top;\n",
       "    }\n",
       "\n",
       "    .dataframe thead th {\n",
       "        text-align: right;\n",
       "    }\n",
       "</style>\n",
       "<table border=\"1\" class=\"dataframe\">\n",
       "  <thead>\n",
       "    <tr style=\"text-align: right;\">\n",
       "      <th></th>\n",
       "      <th>1980</th>\n",
       "      <th>1981</th>\n",
       "      <th>1982</th>\n",
       "      <th>1983</th>\n",
       "      <th>1984</th>\n",
       "      <th>1985</th>\n",
       "      <th>1986</th>\n",
       "      <th>1987</th>\n",
       "      <th>1988</th>\n",
       "      <th>1989</th>\n",
       "      <th>...</th>\n",
       "      <th>2004</th>\n",
       "      <th>2005</th>\n",
       "      <th>2006</th>\n",
       "      <th>2007</th>\n",
       "      <th>2008</th>\n",
       "      <th>2009</th>\n",
       "      <th>2010</th>\n",
       "      <th>2011</th>\n",
       "      <th>2012</th>\n",
       "      <th>2013</th>\n",
       "    </tr>\n",
       "  </thead>\n",
       "  <tbody>\n",
       "    <tr>\n",
       "      <th>0</th>\n",
       "      <td>16.0</td>\n",
       "      <td>39.0</td>\n",
       "      <td>39.0</td>\n",
       "      <td>47.0</td>\n",
       "      <td>71.0</td>\n",
       "      <td>340.0</td>\n",
       "      <td>496.0</td>\n",
       "      <td>741.0</td>\n",
       "      <td>828.0</td>\n",
       "      <td>1076.0</td>\n",
       "      <td>...</td>\n",
       "      <td>2978.0</td>\n",
       "      <td>3436.0</td>\n",
       "      <td>3009.0</td>\n",
       "      <td>2652.0</td>\n",
       "      <td>2111.0</td>\n",
       "      <td>1746.0</td>\n",
       "      <td>1758.0</td>\n",
       "      <td>2203.0</td>\n",
       "      <td>2635.0</td>\n",
       "      <td>2004.0</td>\n",
       "    </tr>\n",
       "  </tbody>\n",
       "</table>\n",
       "<p>1 rows × 34 columns</p>\n",
       "</div>"
      ],
      "text/plain": [
       "   1980  1981  1982  1983  1984   1985   1986   1987   1988    1989  ...  \\\n",
       "0  16.0  39.0  39.0  47.0  71.0  340.0  496.0  741.0  828.0  1076.0  ...   \n",
       "\n",
       "     2004    2005    2006    2007    2008    2009    2010    2011    2012  \\\n",
       "0  2978.0  3436.0  3009.0  2652.0  2111.0  1746.0  1758.0  2203.0  2635.0   \n",
       "\n",
       "     2013  \n",
       "0  2004.0  \n",
       "\n",
       "[1 rows x 34 columns]"
      ]
     },
     "execution_count": 35,
     "metadata": {},
     "output_type": "execute_result"
    }
   ],
   "source": [
    "x = df.iloc[0:1,5:39]\n",
    "x"
   ]
  },
  {
   "cell_type": "code",
   "execution_count": null,
   "id": "55e1bbf8-15ad-408b-a187-92e98137dbc6",
   "metadata": {},
   "outputs": [],
   "source": []
  }
 ],
 "metadata": {
  "kernelspec": {
   "display_name": "Python 3 (ipykernel)",
   "language": "python",
   "name": "python3"
  },
  "language_info": {
   "codemirror_mode": {
    "name": "ipython",
    "version": 3
   },
   "file_extension": ".py",
   "mimetype": "text/x-python",
   "name": "python",
   "nbconvert_exporter": "python",
   "pygments_lexer": "ipython3",
   "version": "3.7.10"
  }
 },
 "nbformat": 4,
 "nbformat_minor": 5
}
